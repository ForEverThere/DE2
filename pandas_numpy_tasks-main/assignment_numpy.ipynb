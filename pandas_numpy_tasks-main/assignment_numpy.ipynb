{
 "cells": [
  {
   "cell_type": "markdown",
   "id": "d3df79dd",
   "metadata": {},
   "source": [
    "## Упражнения по библиотеке Numpy"
   ]
  },
  {
   "cell_type": "code",
   "execution_count": 2,
   "id": "76b9c43b",
   "metadata": {},
   "outputs": [],
   "source": [
    "import numpy as np"
   ]
  },
  {
   "cell_type": "markdown",
   "id": "03727b7c",
   "metadata": {},
   "source": [
    "**1.** Дан случайный массив, поменять знак у элементов, значения которых между 3 и 8"
   ]
  },
  {
   "cell_type": "code",
   "execution_count": 128,
   "id": "b89a7523",
   "metadata": {},
   "outputs": [
    {
     "name": "stdout",
     "output_type": "stream",
     "text": [
      "[-2 -1  0 -2  3  6  2 -5  1  2  7 -1 -4  9 -5]\n",
      "[-2 -1  0 -2  3 -6  2 -5  1  2 -7 -1 -4  9 -5]\n"
     ]
    }
   ],
   "source": [
    "a = np.random.randint(-10,10,15)\n",
    "print(a)\n",
    "a[(a>3)&(a<8)] *=-1\n",
    "print(a)"
   ]
  },
  {
   "cell_type": "markdown",
   "id": "5fa4abda",
   "metadata": {},
   "source": [
    "**2.** Заменить максимальный элемент случайного массива на 0"
   ]
  },
  {
   "cell_type": "code",
   "execution_count": 100,
   "id": "f2788a6e",
   "metadata": {},
   "outputs": [
    {
     "name": "stdout",
     "output_type": "stream",
     "text": [
      "[ 7  6 -1 -5  4 -3  5  8  4  4 -5  5  8 -8  3]\n",
      "[ 7  6 -1 -5  4 -3  5  0  4  4 -5  5  8 -8  3]\n"
     ]
    }
   ],
   "source": [
    "b = np.random.randint(-10,10,15)\n",
    "print(b)\n",
    "b[np.argmax(b)] = 0\n",
    "print(b)\n"
   ]
  },
  {
   "cell_type": "markdown",
   "id": "3cac656b",
   "metadata": {},
   "source": [
    "**3.** Построить прямое произведение массивов (все комбинации с каждым элементом). На вход подается двумерный массив"
   ]
  },
  {
   "cell_type": "code",
   "execution_count": 97,
   "id": "3396b764",
   "metadata": {},
   "outputs": [
    {
     "name": "stdout",
     "output_type": "stream",
     "text": [
      "[[-9 -7 -7]\n",
      " [-7 -1 -8]\n",
      " [-8  7  4]]\n",
      "«----------«\n",
      "[[  0   8   9]\n",
      " [ -5   7  -9]\n",
      " [-10  -9   0]]\n",
      "«----------«\n",
      "[[ 105  -58  -18]\n",
      " [  85    9  -54]\n",
      " [ -75  -51 -135]]\n",
      "«----------«\n",
      "[[ 105  -58  -18]\n",
      " [  85    9  -54]\n",
      " [ -75  -51 -135]]\n",
      "«----------«\n",
      "[[  0 -56 -63]\n",
      " [ 35  -7  72]\n",
      " [ 80 -63   0]]\n"
     ]
    }
   ],
   "source": [
    "c = np.random.randint(-10, 10, [3,3])\n",
    "print(c)\n",
    "print('«----------«')\n",
    "d = np.random.randint(-10, 10, [3,3])\n",
    "print(d)\n",
    "print('«----------«')\n",
    "e = np.dot(c,d)\n",
    "print(e)\n",
    "print('«----------«')\n",
    "f = np.matmul(c,d)\n",
    "print(f)\n",
    "print('«----------«')\n",
    "g = np.multiply(c,d) #What we exactly need\n",
    "print(g)"
   ]
  },
  {
   "cell_type": "markdown",
   "id": "674c9354",
   "metadata": {},
   "source": [
    "**4.** Даны 2 массива A (8x3) и B (2x2). Найти строки в A, которые содержат элементы из каждой строки в B, независимо от порядка элементов в B"
   ]
  },
  {
   "cell_type": "code",
   "execution_count": 6,
   "id": "cb664782",
   "metadata": {},
   "outputs": [
    {
     "name": "stdout",
     "output_type": "stream",
     "text": [
      "[[ 4 -1  1]\n",
      " [ 1  0  4]\n",
      " [ 1  0  2]\n",
      " [ 1  3  3]\n",
      " [-2 -4  4]\n",
      " [-5 -3 -4]\n",
      " [ 2  0  2]\n",
      " [-4 -1  1]]\n",
      "[[3 2]\n",
      " [0 1]]\n",
      "[[[[False False]\n",
      "   [False False]]\n",
      "\n",
      "  [[False False]\n",
      "   [False False]]\n",
      "\n",
      "  [[False False]\n",
      "   [False  True]]]\n",
      "\n",
      "\n",
      " [[[False False]\n",
      "   [False  True]]\n",
      "\n",
      "  [[False False]\n",
      "   [ True False]]\n",
      "\n",
      "  [[False False]\n",
      "   [False False]]]\n",
      "\n",
      "\n",
      " [[[False False]\n",
      "   [False  True]]\n",
      "\n",
      "  [[False False]\n",
      "   [ True False]]\n",
      "\n",
      "  [[False  True]\n",
      "   [False False]]]\n",
      "\n",
      "\n",
      " [[[False False]\n",
      "   [False  True]]\n",
      "\n",
      "  [[ True False]\n",
      "   [False False]]\n",
      "\n",
      "  [[ True False]\n",
      "   [False False]]]\n",
      "\n",
      "\n",
      " [[[False False]\n",
      "   [False False]]\n",
      "\n",
      "  [[False False]\n",
      "   [False False]]\n",
      "\n",
      "  [[False False]\n",
      "   [False False]]]\n",
      "\n",
      "\n",
      " [[[False False]\n",
      "   [False False]]\n",
      "\n",
      "  [[False False]\n",
      "   [False False]]\n",
      "\n",
      "  [[False False]\n",
      "   [False False]]]\n",
      "\n",
      "\n",
      " [[[False  True]\n",
      "   [False False]]\n",
      "\n",
      "  [[False False]\n",
      "   [ True False]]\n",
      "\n",
      "  [[False  True]\n",
      "   [False False]]]\n",
      "\n",
      "\n",
      " [[[False False]\n",
      "   [False False]]\n",
      "\n",
      "  [[False False]\n",
      "   [False False]]\n",
      "\n",
      "  [[False False]\n",
      "   [False  True]]]]\n",
      "[1 2 3 6]\n"
     ]
    }
   ],
   "source": [
    "A = np.random.randint(-5,5,(8,3))\n",
    "B = np.random.randint(-5,5,(2,2))\n",
    "print(A)\n",
    "print(B)\n",
    "C = (A[..., np.newaxis, np.newaxis] == B)\n",
    "print(C)\n",
    "rows = (C.sum(axis=(1,2,3)) >= B.shape[1]).nonzero()[0]\n",
    "print(rows)"
   ]
  },
  {
   "cell_type": "markdown",
   "id": "fa46533b",
   "metadata": {},
   "source": [
    "**5.** Дана 10x3 матрица, найти строки из неравных значений (например строка [2,2,3] остается, строка [3,3,3] удаляется)"
   ]
  },
  {
   "cell_type": "code",
   "execution_count": 119,
   "id": "fa545b23",
   "metadata": {},
   "outputs": [
    {
     "name": "stdout",
     "output_type": "stream",
     "text": [
      "[[0 1 0]\n",
      " [3 4 1]\n",
      " [1 0 0]\n",
      " [1 4 2]\n",
      " [1 3 3]\n",
      " [0 3 1]\n",
      " [4 4 2]\n",
      " [0 1 2]\n",
      " [3 3 3]\n",
      " [2 4 2]]\n",
      "[[0 1 0]\n",
      " [3 4 1]\n",
      " [1 0 0]\n",
      " [1 4 2]\n",
      " [1 3 3]\n",
      " [0 3 1]\n",
      " [4 4 2]\n",
      " [0 1 2]\n",
      " [2 4 2]]\n"
     ]
    }
   ],
   "source": [
    "A = np.random.randint(0,5,(10,3))\n",
    "B = np.logical_and.reduce(A[:,1:] == A[:,:-1], axis=1)\n",
    "C = A[~B]\n",
    "print(A)\n",
    "print(C)"
   ]
  },
  {
   "cell_type": "markdown",
   "id": "28f0d116",
   "metadata": {},
   "source": [
    "**6.** Дан двумерный массив. Удалить те строки, которые повторяются"
   ]
  },
  {
   "cell_type": "code",
   "execution_count": 7,
   "id": "83d2c0b7",
   "metadata": {},
   "outputs": [
    {
     "name": "stdout",
     "output_type": "stream",
     "text": [
      "[[0 1 0]\n",
      " [0 0 0]\n",
      " [1 0 0]\n",
      " [1 0 0]\n",
      " [1 1 0]\n",
      " [0 1 1]]\n",
      "[[0 0 0]\n",
      " [0 1 0]\n",
      " [0 1 1]\n",
      " [1 0 0]\n",
      " [1 1 0]]\n"
     ]
    }
   ],
   "source": [
    "A = np.random.randint(0, 2, (6,3))\n",
    "T = np.ascontiguousarray(A).view(np.dtype((np.void, A.dtype.itemsize * A.shape[1])))\n",
    "_, idx = np.unique(T, return_index=True)\n",
    "delA = A[idx]\n",
    "print(A)\n",
    "print(delA)"
   ]
  },
  {
   "cell_type": "markdown",
   "id": "6daa9e37",
   "metadata": {},
   "source": [
    "______\n",
    "______"
   ]
  },
  {
   "cell_type": "markdown",
   "id": "cfbfcaff",
   "metadata": {},
   "source": [
    "Для каждой из следующих задач (1-5) нужно привести 2 реализации – одна без использования numpy (cчитайте, что там, где на входе или выходе должны быть numpy array, будут просто списки), а вторая полностью векторизованная с использованием numpy (без использования питоновских циклов/map/list comprehension).\n",
    "\n",
    "\n",
    "__Замечание 1.__ Можно считать, что все указанные объекты непустые (к примеру, в __задаче 1__ на диагонали матрицы есть ненулевые элементы).\n",
    "\n",
    "__Замечание 2.__ Для большинства задач решение занимает не больше 1-2 строк."
   ]
  },
  {
   "cell_type": "markdown",
   "id": "673cac7f",
   "metadata": {},
   "source": [
    "___"
   ]
  },
  {
   "cell_type": "markdown",
   "id": "ca6f585e",
   "metadata": {},
   "source": [
    "* __Задача 1__: Подсчитать произведение ненулевых элементов на диагонали прямоугольной матрицы.  \n",
    " Например, для X = np.array([[1, 0, 1], [2, 0, 2], [3, 0, 3], [4, 4, 4]]) ответ 3."
   ]
  },
  {
   "cell_type": "code",
   "execution_count": 142,
   "id": "065862fc",
   "metadata": {},
   "outputs": [
    {
     "name": "stdout",
     "output_type": "stream",
     "text": [
      "[[-1  2 -4  3]\n",
      " [ 3 -5 -4  2]\n",
      " [-3  3 -3 -3]]\n",
      "-360\n",
      "-360\n"
     ]
    }
   ],
   "source": [
    "#numpy\n",
    "A = np.random.randint(-5, 5, (3,4))\n",
    "print(A)\n",
    "print(np.prod(np.diag(A)[np.diag(A)!=0])*np.prod(np.diag(A, k=+1)[np.diag(A, k=+1)!=0]))\n",
    "#python\n",
    "iter1 = -1\n",
    "iter2 = -1\n",
    "v = 1\n",
    "for a in A:\n",
    "    iter1 = iter1 + 1\n",
    "    iter2 = iter2 + 1\n",
    "    if (iter1 < A.shape[0]) and (iter2 < A.shape[1]):\n",
    "        if A[iter1,iter2] != 0:\n",
    "            v = v * A[iter1,iter2]\n",
    "iter1 = -1\n",
    "iter2 = 0\n",
    "for a in A:\n",
    "    iter1 = iter1 + 1\n",
    "    iter2 = iter2 + 1\n",
    "    if (iter1 < A.shape[0]) and (iter2 < A.shape[1]):\n",
    "        if A[iter1,iter2] != 0:\n",
    "            v = v * A[iter1,iter2]\n",
    "print(v)"
   ]
  },
  {
   "cell_type": "markdown",
   "id": "9fc51d41",
   "metadata": {},
   "source": [
    "* __Задача 2__: Даны два вектора x и y. Проверить, задают ли они одно и то же мультимножество.  \n",
    "  Например, для x = np.array([1, 2, 2, 4]), y = np.array([4, 2, 1, 2]) ответ True."
   ]
  },
  {
   "cell_type": "code",
   "execution_count": 143,
   "id": "a809e02f",
   "metadata": {},
   "outputs": [
    {
     "name": "stdout",
     "output_type": "stream",
     "text": [
      "[1 1 0]\n",
      "[0 1 1]\n",
      "_______\n",
      "True\n",
      "_______\n",
      "True\n"
     ]
    }
   ],
   "source": [
    "A = np.random.randint(0,3,3)\n",
    "B = np.random.randint(0,3,3)\n",
    "#numpy\n",
    "AA = np.sort(A)\n",
    "BB = np.sort(B)\n",
    "print(A)\n",
    "print(B)\n",
    "CC = np.array_equal(AA,BB)\n",
    "print(CC)\n",
    "#python\n",
    "AAA = sorted(A)\n",
    "BBB = sorted(B)\n",
    "print(AAA == BBB)"
   ]
  },
  {
   "cell_type": "markdown",
   "id": "b9c185c7",
   "metadata": {},
   "source": [
    "* __Задача 3__: Найти максимальный элемент в векторе x среди элементов, перед которыми стоит ноль. \n",
    " Например, для x = np.array([6, 2, 0, 3, 0, 0, 5, 7, 0]) ответ 5."
   ]
  },
  {
   "cell_type": "code",
   "execution_count": 121,
   "id": "b57df008",
   "metadata": {},
   "outputs": [
    {
     "name": "stdout",
     "output_type": "stream",
     "text": [
      "[ 0  3 -2 -1  2  0 -4  3 -3 -4 -3 -4 -4  3  0 -1 -1 -2]\n",
      "3\n",
      "3\n"
     ]
    }
   ],
   "source": [
    "#numpy\n",
    "A = np.random.randint(-4,4,18)\n",
    "print(A)\n",
    "if np.in1d(0,A):\n",
    "    B =np.append(A[1:],-1)\n",
    "    print(max(A[B==0]))\n",
    "else:\n",
    "    print('0 of 0 exists here)')\n",
    "#python\n",
    "max_after_zero = -999\n",
    "for i in range(len(A)):\n",
    "    if A[i]==0 and A[i-1] > max_after_zero:\n",
    "        max_after_zero = A[i-1]\n",
    "print(max_after_zero)\n"
   ]
  },
  {
   "cell_type": "markdown",
   "id": "480be4ce",
   "metadata": {},
   "source": [
    "* __Задача 4__: Реализовать кодирование длин серий (Run-length encoding). Для некоторого вектора x необходимо вернуть кортеж из двух векторов одинаковой длины. Первый содержит числа, а второй - сколько раз их нужно повторить.  \n",
    " Например, для x = np.array([2, 2, 2, 3, 3, 3, 5]) ответ (np.array([2, 3, 5]), np.array([3, 3, 1]))."
   ]
  },
  {
   "cell_type": "code",
   "execution_count": 163,
   "id": "3c592124",
   "metadata": {},
   "outputs": [
    {
     "name": "stdout",
     "output_type": "stream",
     "text": [
      "[-3 -3 -2 -2 -1  1  1  2  2  2]\n",
      "[-3 -2 -1  1  2]\n",
      "[2 2 1 2 3]\n",
      "_____________________________\n",
      "[-3 -3 -2 -2 -1  1  1  2  2  2]\n",
      "[-3, -2, -1, 1, 2]\n",
      "[2, 2, 1, 2, 3]\n"
     ]
    }
   ],
   "source": [
    "#numpy\n",
    "x = np.random.randint(-3,3,10)\n",
    "x = np.sort(x)\n",
    "print(x)\n",
    "def rle(typicalArray):\n",
    "        arr = np.asarray(typicalArray)\n",
    "        n = len(arr)\n",
    "        if n == 0:\n",
    "            return None, None, None\n",
    "        else:\n",
    "            y = arr[1:] != arr[:-1]\n",
    "            i = np.append(np.where(y), n - 1)\n",
    "            z = np.diff(np.append(-1, i))\n",
    "            p = np.cumsum(np.append(0, z))[:-1]\n",
    "            return z, p, arr[i]\n",
    "countOfSymbols, xxx, symbols = rle(x)\n",
    "print(symbols)\n",
    "print(countOfSymbols)\n",
    "print('_____________________________')\n",
    "#pyhton\n",
    "from array import *\n",
    "print(x)\n",
    "num = []\n",
    "zn = []\n",
    "count = 1\n",
    "for i in range(0,len(x-1)):\n",
    "    if i+1 < len(x):\n",
    "        if x[i] == x[i+1]:\n",
    "            count+= 1\n",
    "        else:\n",
    "            zn.append(x[i])\n",
    "            num.append(count)\n",
    "            count = 1\n",
    "    else:\n",
    "        zn.append(x[i])\n",
    "        num.append(count)\n",
    "print(zn)\n",
    "print(num)"
   ]
  },
  {
   "cell_type": "markdown",
   "id": "077532ec",
   "metadata": {},
   "source": [
    "* __Задача 5__: Даны две выборки объектов - X и Y. Вычислить матрицу евклидовых расстояний между объектами. Сравните с функцией scipy.spatial.distance.cdist по скорости работы."
   ]
  },
  {
   "cell_type": "code",
   "execution_count": 229,
   "id": "1e807797",
   "metadata": {},
   "outputs": [
    {
     "name": "stdout",
     "output_type": "stream",
     "text": [
      "[[1.73205081 9.2736185  7.87400787]\n",
      " [4.89897949 4.12310563 4.12310563]\n",
      " [9.94987437 1.41421356 5.09901951]]\n",
      "4.5700000555370934e-05\n",
      "[[1.73205081 9.2736185  7.87400787]\n",
      " [4.89897949 4.12310563 4.12310563]\n",
      " [9.94987437 1.41421356 5.09901951]]\n",
      "2.7800000680144876e-05\n",
      "[[1.73205081 9.2736185  7.87400787]\n",
      " [4.89897949 4.12310563 4.12310563]\n",
      " [9.94987437 1.41421356 5.09901951]]\n",
      "0.00013929999840911478\n"
     ]
    }
   ],
   "source": [
    "from scipy.spatial.distance import cdist\n",
    "import timeit\n",
    "#numpy\n",
    "def EDM(A,B):\n",
    "    p1 = np.sum(A**2, axis =1)[:, np.newaxis]\n",
    "    p2 = np.sum(B**2, axis =1)\n",
    "    p3 = -2 * np.dot(A,B.T)\n",
    "    return np.sqrt(p1+p2+p3)\n",
    "#________________________________________________\n",
    "A = np.array([[1, 2, 3], [4, 5, 6], [7, 8, 9]])\n",
    "B = np.array([[2, 1, 4], [7, 7, 8], [3, 5, 10]])\n",
    "#print(EDM(A,B))\n",
    "#print(cdist(A,B))\n",
    "e_d_m = \"\"\"\n",
    "import numpy as np\n",
    "A = np.array([[1, 2, 3], [4, 5, 6], [7, 8, 9]])\n",
    "B = np.array([[2, 1, 4], [7, 7, 8], [3, 5, 10]])\n",
    "p1 = np.sum(A**2, axis =1)[:, np.newaxis]\n",
    "p2 = np.sum(B**2, axis =1)\n",
    "p3 = -2 * np.dot(A,B.T)\n",
    "np.sqrt(p1+p2+p3)\n",
    "\"\"\"\n",
    "c_dist = \"\"\"\n",
    "from scipy.spatial.distance import cdist\n",
    "import numpy as np\n",
    "A = np.array([[1, 2, 3], [4, 5, 6], [7, 8, 9]])\n",
    "B = np.array([[2, 1, 4], [7, 7, 8], [3, 5, 10]])\n",
    "cdist(A,B)\n",
    "\"\"\"\n",
    "print(EDM(A,B))\n",
    "print(timeit.timeit(e_d_m, number=1))\n",
    "print(cdist(A,B))\n",
    "print(timeit.timeit(c_dist, number=1))\n",
    "#python\n",
    "from sklearn.metrics.pairwise import euclidean_distances\n",
    "print(euclidean_distances(A,B))\n",
    "euclid_dist = \"\"\"\n",
    "from sklearn.metrics.pairwise import euclidean_distances\n",
    "import numpy as np\n",
    "A = np.array([[1, 2, 3], [4, 5, 6], [7, 8, 9]])\n",
    "B = np.array([[2, 1, 4], [7, 7, 8], [3, 5, 10]])\n",
    "euclidean_distances(A,B)\n",
    "\"\"\"\n",
    "print(timeit.timeit(euclid_dist, number=1))"
   ]
  },
  {
   "cell_type": "markdown",
   "id": "973e8064",
   "metadata": {},
   "source": [
    "_______\n",
    "________"
   ]
  },
  {
   "cell_type": "markdown",
   "id": "1104acb7",
   "metadata": {},
   "source": [
    "* #### __Задача 6__: CrunchieMunchies __*__\n",
    "\n",
    "Вы работаете в отделе маркетинга пищевой компании MyCrunch, которая разрабатывает новый вид вкусных, полезных злаков под названием **CrunchieMunchies**.\n",
    "\n",
    "Вы хотите продемонстрировать потребителям, насколько полезны ваши хлопья по сравнению с другими ведущими брендами, поэтому вы собрали данные о питании нескольких разных конкурентов.\n",
    "\n",
    "Ваша задача - использовать вычисления Numpy для анализа этих данных и доказать, что ваши **СrunchieMunchies** - самый здоровый выбор для потребителей.\n"
   ]
  },
  {
   "cell_type": "code",
   "execution_count": 230,
   "id": "10a77f8d",
   "metadata": {},
   "outputs": [],
   "source": [
    "import numpy as np"
   ]
  },
  {
   "cell_type": "markdown",
   "id": "ab87cb03",
   "metadata": {},
   "source": [
    "1. Просмотрите файл cereal.csv. Этот файл содержит количества калорий для различных марок хлопьев. Загрузите данные из файла и сохраните их как calorie_stats."
   ]
  },
  {
   "cell_type": "code",
   "execution_count": 231,
   "id": "9681ebf2",
   "metadata": {},
   "outputs": [
    {
     "data": {
      "text/plain": "array([ 70., 120.,  70.,  50., 110., 110., 110., 130.,  90.,  90., 120.,\n       110., 120., 110., 110., 110., 100., 110., 110., 110., 100., 110.,\n       100., 100., 110., 110., 100., 120., 120., 110., 100., 110., 100.,\n       110., 120., 120., 110., 110., 110., 140., 110., 100., 110., 100.,\n       150., 150., 160., 100., 120., 140.,  90., 130., 120., 100.,  50.,\n        50., 100., 100., 120., 100.,  90., 110., 110.,  80.,  90.,  90.,\n       110., 110.,  90., 110., 140., 100., 110., 110., 100., 100., 110.])"
     },
     "execution_count": 231,
     "metadata": {},
     "output_type": "execute_result"
    }
   ],
   "source": [
    "calorie_stats = np.loadtxt(\"./data/cereal.csv\", delimiter=\",\")\n",
    "calorie_stats"
   ]
  },
  {
   "cell_type": "markdown",
   "id": "139cfbd8",
   "metadata": {},
   "source": [
    "2. В одной порции CrunchieMunchies содержится 60 калорий. Насколько выше среднее количество калорий у ваших конкурентов?\n",
    "\n",
    "Сохраните ответ в переменной average_calories и распечатайте переменную в терминале"
   ]
  },
  {
   "cell_type": "code",
   "execution_count": 237,
   "id": "7036d240",
   "metadata": {},
   "outputs": [
    {
     "name": "stdout",
     "output_type": "stream",
     "text": [
      "106.88311688311688\n",
      "Difference between CrunchieMunchies and average calories is: 46.88\n"
     ]
    }
   ],
   "source": [
    "average_calories = calorie_stats.mean()\n",
    "print(average_calories)\n",
    "print('Difference between CrunchieMunchies and average calories is: ' + str(round(average_calories-60.0,2)))"
   ]
  },
  {
   "cell_type": "markdown",
   "id": "b2ddb4cd",
   "metadata": {},
   "source": [
    "3. Корректно ли среднее количество калорий отражает распределение набора данных? Давайте отсортируем данные и посмотрим.\n",
    "\n",
    "Отсортируйте данные и сохраните результат в переменной calorie_stats_sorted. Распечатайте отсортированную информацию"
   ]
  },
  {
   "cell_type": "code",
   "execution_count": 239,
   "id": "46eeb4ed",
   "metadata": {},
   "outputs": [
    {
     "name": "stdout",
     "output_type": "stream",
     "text": [
      "[ 50.  50.  50.  70.  70.  80.  90.  90.  90.  90.  90.  90.  90. 100.\n",
      " 100. 100. 100. 100. 100. 100. 100. 100. 100. 100. 100. 100. 100. 100.\n",
      " 100. 100. 110. 110. 110. 110. 110. 110. 110. 110. 110. 110. 110. 110.\n",
      " 110. 110. 110. 110. 110. 110. 110. 110. 110. 110. 110. 110. 110. 110.\n",
      " 110. 110. 110. 120. 120. 120. 120. 120. 120. 120. 120. 120. 120. 130.\n",
      " 130. 140. 140. 140. 150. 150. 160.]\n"
     ]
    }
   ],
   "source": [
    "calorie_stats_sorted = np.sort(calorie_stats)\n",
    "print(calorie_stats_sorted)"
   ]
  },
  {
   "cell_type": "markdown",
   "id": "4dc74116",
   "metadata": {},
   "source": [
    "4. Похоже, что большинство значений выше среднего. Давайте посмотрим, является ли медиана наиболее корректным показателем набора данных.\n",
    "\n",
    "Вычислите медиану набора данных и сохраните свой ответ в median_calories. Выведите медиану, чтобы вы могли видеть, как она сравнивается со средним значением."
   ]
  },
  {
   "cell_type": "code",
   "execution_count": 241,
   "id": "b56627c3",
   "metadata": {},
   "outputs": [
    {
     "name": "stdout",
     "output_type": "stream",
     "text": [
      "Median: 110.0\n",
      "Average: 106.88311688311688\n"
     ]
    }
   ],
   "source": [
    "median_calories = np.median(calorie_stats)\n",
    "print('Median: ' + str(median_calories))\n",
    "print('Average: ' + str(average_calories))"
   ]
  },
  {
   "cell_type": "markdown",
   "id": "a63ab72f",
   "metadata": {},
   "source": [
    "5. В то время как медиана показывает, что по крайней мере половина наших значений составляет более 100 калорий, было бы более впечатляюще показать, что значительная часть конкурентов имеет более высокое количество калорий, чем CrunchieMunchies.\n",
    "\n",
    "Рассчитайте различные процентили и распечатайте их, пока не найдете наименьший процентиль, превышающий 60 калорий. Сохраните это значение в переменной nth_percentile."
   ]
  },
  {
   "cell_type": "code",
   "execution_count": 256,
   "id": "fe80ce03",
   "metadata": {},
   "outputs": [
    {
     "name": "stdout",
     "output_type": "stream",
     "text": [
      "50.0  ->  1\n",
      "50.0  ->  2\n",
      "55.6  ->  3\n",
      "70.0  ->  4\n"
     ]
    }
   ],
   "source": [
    "for i in range(1,10):\n",
    "    amount = np.percentile(calorie_stats, i)\n",
    "    print(str(round(amount,2)) + '  ->  ' + str(i))\n",
    "    if amount > 60:\n",
    "        nth_percentile = i\n",
    "        break"
   ]
  },
  {
   "cell_type": "markdown",
   "id": "a2a3c5aa",
   "metadata": {},
   "source": [
    "6. Хотя процентиль показывает нам, что у большинства конкурентов количество калорий намного выше, это неудобная концепция для использования в маркетинговых материалах.\n",
    "\n",
    "Вместо этого давайте подсчитаем процент хлопьев, в которых содержится более 60 калорий на порцию. Сохраните свой ответ в переменной more_calories и распечатайте его"
   ]
  },
  {
   "cell_type": "code",
   "execution_count": 259,
   "id": "ade0f6ea",
   "metadata": {},
   "outputs": [
    {
     "name": "stdout",
     "output_type": "stream",
     "text": [
      "96.1%\n"
     ]
    }
   ],
   "source": [
    "more_calories = np.mean(calorie_stats > 60)*100\n",
    "print(str(round(more_calories,1)) + '%')"
   ]
  },
  {
   "cell_type": "markdown",
   "id": "1735d65b",
   "metadata": {},
   "source": [
    "7. Это действительно высокий процент. Это будет очень полезно, когда мы будем продвигать CrunchieMunchies. Но один вопрос заключается в том, насколько велики различия в наборе данных? Можем ли мы сделать обобщение, что в большинстве злаков содержится около 100 калорий или разброс еще больше?\n",
    "\n",
    "Рассчитайте величину отклонения, найдя стандартное отклонение, Сохраните свой ответ в calorie_std и распечатайте на терминале. Как мы можем включить эту ценность в наш анализ?"
   ]
  },
  {
   "cell_type": "code",
   "execution_count": 260,
   "id": "85c8df1f",
   "metadata": {},
   "outputs": [
    {
     "name": "stdout",
     "output_type": "stream",
     "text": [
      "19.35718533390827\n"
     ]
    }
   ],
   "source": [
    "calorie_std = np.std(calorie_stats)\n",
    "print(calorie_std)"
   ]
  },
  {
   "cell_type": "markdown",
   "id": "037455c5",
   "metadata": {},
   "source": [
    "8. Напишите короткий абзац, в котором кратко изложите свои выводы и то, как, по вашему мнению, эти данные могут быть использованы в интересах Mycrunch при маркетинге CrunchieMunchies."
   ]
  },
  {
   "cell_type": "code",
   "execution_count": 167,
   "id": "c260fee9",
   "metadata": {},
   "outputs": [],
   "source": [
    "#There are significant variations in the health of the cereals available to you. 96% of 77 surveyed cereals had higher calorie counts than\n",
    "#CrunchieMunchies. CrunchieMunchies may produce weightlose with regular exercise. Mycrunch wins against another companies as its product has\n",
    "# less than 40% calories"
   ]
  }
 ],
 "metadata": {
  "kernelspec": {
   "display_name": "Python 3 (ipykernel)",
   "language": "python",
   "name": "python3"
  },
  "language_info": {
   "codemirror_mode": {
    "name": "ipython",
    "version": 3
   },
   "file_extension": ".py",
   "mimetype": "text/x-python",
   "name": "python",
   "nbconvert_exporter": "python",
   "pygments_lexer": "ipython3",
   "version": "3.8.10"
  }
 },
 "nbformat": 4,
 "nbformat_minor": 5
}
