{
 "cells": [
  {
   "cell_type": "markdown",
   "metadata": {},
   "source": [
    "## Датасет собран из базы данных переписи 1994 года и содержит данные о доходах.\n",
    "### Информация о данных:\n",
    "* age: continuous.\n",
    "* workclass: Private, Self-emp-not-inc, Self-emp-inc, Federal-gov, Local-gov, State-gov, Without-pay, Never-worked.\n",
    "* fnlwgt: continuous.\n",
    "* education: Bachelors, Some-college, 11th, HS-grad, Prof-school, Assoc-acdm, Assoc-voc, 9th, 7th-8th, 12th, * Masters, 1st-4th, 10th, Doctorate, 5th-6th, Preschool.\n",
    "* education-num: continuous.\n",
    "* marital-status: Married-civ-spouse, Divorced, Never-married, Separated, Widowed, Married-spouse-absent, Married-AF-spouse.\n",
    "* occupation: Tech-support, Craft-repair, Other-service, Sales, Exec-managerial, Prof-specialty, Handlers-cleaners, Machine-op-inspct, Adm-clerical, Farming-fishing, Transport-moving, Priv-house-serv, Protective-serv, Armed-Forces.\n",
    "* relationship: Wife, Own-child, Husband, Not-in-family, Other-relative, Unmarried.\n",
    "* race: White, Asian-Pac-Islander, Amer-Indian-Eskimo, Other, Black.\n",
    "* sex: Female, Male.\n",
    "* capital-gain: continuous.\n",
    "* capital-loss: continuous.\n",
    "* hours-per-week: continuous.\n",
    "* native-country: United-States, Cambodia, England, Puerto-Rico, Canada, Germany, Outlying-US(Guam-USVI-etc), India, Japan, Greece, South, China, Cuba, Iran, Honduras, Philippines, Italy, Poland, Jamaica, Vietnam, Mexico, Portugal, Ireland, France, Dominican-Republic, Laos, Ecuador, Taiwan, Haiti, Columbia, Hungary, Guatemala, Nicaragua, Scotland, Thailand, Yugoslavia, El-Salvador, Trinadad&Tobago, Peru, Hong, Holand-Netherlands.\n",
    "* salary: >50K,<=50K\n",
    "\n",
    "## Проведите анализ данных при помощи Pandas выполнив поставленные задачи.\n",
    "#### "
   ]
  },
  {
   "cell_type": "code",
   "execution_count": 1,
   "metadata": {},
   "outputs": [],
   "source": [
    "import pandas as pd"
   ]
  },
  {
   "cell_type": "code",
   "execution_count": 2,
   "metadata": {},
   "outputs": [
    {
     "data": {
      "text/plain": "   age         workclass  fnlwgt  education  education-num  \\\n0   39         State-gov   77516  Bachelors             13   \n1   50  Self-emp-not-inc   83311  Bachelors             13   \n2   38           Private  215646    HS-grad              9   \n3   53           Private  234721       11th              7   \n4   28           Private  338409  Bachelors             13   \n\n       marital-status         occupation   relationship   race     sex  \\\n0       Never-married       Adm-clerical  Not-in-family  White    Male   \n1  Married-civ-spouse    Exec-managerial        Husband  White    Male   \n2            Divorced  Handlers-cleaners  Not-in-family  White    Male   \n3  Married-civ-spouse  Handlers-cleaners        Husband  Black    Male   \n4  Married-civ-spouse     Prof-specialty           Wife  Black  Female   \n\n   capital-gain  capital-loss  hours-per-week native-country salary  \n0          2174             0              40  United-States  <=50K  \n1             0             0              13  United-States  <=50K  \n2             0             0              40  United-States  <=50K  \n3             0             0              40  United-States  <=50K  \n4             0             0              40           Cuba  <=50K  ",
      "text/html": "<div>\n<style scoped>\n    .dataframe tbody tr th:only-of-type {\n        vertical-align: middle;\n    }\n\n    .dataframe tbody tr th {\n        vertical-align: top;\n    }\n\n    .dataframe thead th {\n        text-align: right;\n    }\n</style>\n<table border=\"1\" class=\"dataframe\">\n  <thead>\n    <tr style=\"text-align: right;\">\n      <th></th>\n      <th>age</th>\n      <th>workclass</th>\n      <th>fnlwgt</th>\n      <th>education</th>\n      <th>education-num</th>\n      <th>marital-status</th>\n      <th>occupation</th>\n      <th>relationship</th>\n      <th>race</th>\n      <th>sex</th>\n      <th>capital-gain</th>\n      <th>capital-loss</th>\n      <th>hours-per-week</th>\n      <th>native-country</th>\n      <th>salary</th>\n    </tr>\n  </thead>\n  <tbody>\n    <tr>\n      <th>0</th>\n      <td>39</td>\n      <td>State-gov</td>\n      <td>77516</td>\n      <td>Bachelors</td>\n      <td>13</td>\n      <td>Never-married</td>\n      <td>Adm-clerical</td>\n      <td>Not-in-family</td>\n      <td>White</td>\n      <td>Male</td>\n      <td>2174</td>\n      <td>0</td>\n      <td>40</td>\n      <td>United-States</td>\n      <td>&lt;=50K</td>\n    </tr>\n    <tr>\n      <th>1</th>\n      <td>50</td>\n      <td>Self-emp-not-inc</td>\n      <td>83311</td>\n      <td>Bachelors</td>\n      <td>13</td>\n      <td>Married-civ-spouse</td>\n      <td>Exec-managerial</td>\n      <td>Husband</td>\n      <td>White</td>\n      <td>Male</td>\n      <td>0</td>\n      <td>0</td>\n      <td>13</td>\n      <td>United-States</td>\n      <td>&lt;=50K</td>\n    </tr>\n    <tr>\n      <th>2</th>\n      <td>38</td>\n      <td>Private</td>\n      <td>215646</td>\n      <td>HS-grad</td>\n      <td>9</td>\n      <td>Divorced</td>\n      <td>Handlers-cleaners</td>\n      <td>Not-in-family</td>\n      <td>White</td>\n      <td>Male</td>\n      <td>0</td>\n      <td>0</td>\n      <td>40</td>\n      <td>United-States</td>\n      <td>&lt;=50K</td>\n    </tr>\n    <tr>\n      <th>3</th>\n      <td>53</td>\n      <td>Private</td>\n      <td>234721</td>\n      <td>11th</td>\n      <td>7</td>\n      <td>Married-civ-spouse</td>\n      <td>Handlers-cleaners</td>\n      <td>Husband</td>\n      <td>Black</td>\n      <td>Male</td>\n      <td>0</td>\n      <td>0</td>\n      <td>40</td>\n      <td>United-States</td>\n      <td>&lt;=50K</td>\n    </tr>\n    <tr>\n      <th>4</th>\n      <td>28</td>\n      <td>Private</td>\n      <td>338409</td>\n      <td>Bachelors</td>\n      <td>13</td>\n      <td>Married-civ-spouse</td>\n      <td>Prof-specialty</td>\n      <td>Wife</td>\n      <td>Black</td>\n      <td>Female</td>\n      <td>0</td>\n      <td>0</td>\n      <td>40</td>\n      <td>Cuba</td>\n      <td>&lt;=50K</td>\n    </tr>\n  </tbody>\n</table>\n</div>"
     },
     "execution_count": 2,
     "metadata": {},
     "output_type": "execute_result"
    }
   ],
   "source": [
    "# загружаем датасет\n",
    "df = pd.read_csv(\"./data/adult.data.csv\")\n",
    "df.head()"
   ]
  },
  {
   "cell_type": "markdown",
   "metadata": {},
   "source": [
    "**1. Посчитайте, сколько мужчин и женщин (признак *sex*) представлено в этом датасете**"
   ]
  },
  {
   "cell_type": "code",
   "execution_count": 3,
   "metadata": {},
   "outputs": [
    {
     "name": "stdout",
     "output_type": "stream",
     "text": [
      "          sex\n",
      "        count\n",
      "sex          \n",
      "Female  10771\n",
      "Male    21790\n"
     ]
    }
   ],
   "source": [
    "agg_func_count = {'sex': ['count']}\n",
    "print(df.groupby(['sex']).agg(agg_func_count))"
   ]
  },
  {
   "cell_type": "markdown",
   "metadata": {},
   "source": [
    "**2. Каков средний возраст мужчин (признак *age*) по всему датасету?**"
   ]
  },
  {
   "cell_type": "code",
   "execution_count": 4,
   "metadata": {},
   "outputs": [
    {
     "name": "stdout",
     "output_type": "stream",
     "text": [
      "Average male age: 39.4\n"
     ]
    }
   ],
   "source": [
    "print('Average male age: ' + str(df[df.sex == 'Male']['age'].mean().round(1)))"
   ]
  },
  {
   "cell_type": "markdown",
   "metadata": {},
   "source": [
    "**3. Какова доля граждан Соединенных Штатов (признак *native-country*)?**"
   ]
  },
  {
   "cell_type": "code",
   "execution_count": 5,
   "metadata": {},
   "outputs": [
    {
     "name": "stdout",
     "output_type": "stream",
     "text": [
      "Part of US people in dataset: 89.586%\n"
     ]
    }
   ],
   "source": [
    "allRows = len(df)\n",
    "usRows = len(df[df['native-country'] == 'United-States'])\n",
    "percentage = usRows/allRows\n",
    "print('Part of US people in dataset: ' + str(round(percentage*100,3)) + '%')"
   ]
  },
  {
   "cell_type": "markdown",
   "metadata": {},
   "source": [
    "**4-5. Рассчитайте среднее значение и среднеквадратичное отклонение возраста тех, кто получает более 50K в год (признак *salary*) и тех, кто получает менее 50K в год**"
   ]
  },
  {
   "cell_type": "code",
   "execution_count": 6,
   "metadata": {},
   "outputs": [
    {
     "name": "stdout",
     "output_type": "stream",
     "text": [
      "                         age\n",
      "Salary <=50K mean  36.783738\n",
      "             std   14.020088\n",
      "Salary >50K  mean  44.249841\n",
      "             std   10.519028\n"
     ]
    }
   ],
   "source": [
    "a = {'age': ['mean', 'std']}\n",
    "d = pd.concat([df[df.salary == '<=50K'].agg(a),df[df.salary == '>50K'].agg(a)],keys=['Salary <=50K','Salary >50K'])\n",
    "print(d)"
   ]
  },
  {
   "cell_type": "markdown",
   "metadata": {},
   "source": [
    "**6. Правда ли, что люди, которые получают больше 50k, имеют минимум высшее образование? (признак *education – Bachelors, Prof-school, Assoc-acdm, Assoc-voc, Masters* или *Doctorate*)**"
   ]
  },
  {
   "cell_type": "code",
   "execution_count": 7,
   "metadata": {},
   "outputs": [
    {
     "name": "stdout",
     "output_type": "stream",
     "text": [
      "False\n"
     ]
    }
   ],
   "source": [
    "b = df[df.salary == '<=50K']['education'].isin(['Bachelors', 'Prof-school', 'Assoc-acdm', 'Assoc-voc', 'Masters', 'Doctorate'])\n",
    "if b.value_counts().count() == 2:\n",
    "    print('False')\n",
    "else:\n",
    "    print('True')"
   ]
  },
  {
   "cell_type": "markdown",
   "metadata": {},
   "source": [
    "**7. Выведите статистику возраста для каждой расы (признак *race*) и каждого пола. Используйте *groupby* и *describe*. Найдите таким образом максимальный возраст мужчин расы *Asian-Pac-Islander*.**"
   ]
  },
  {
   "cell_type": "code",
   "execution_count": 8,
   "metadata": {
    "scrolled": true
   },
   "outputs": [
    {
     "name": "stdout",
     "output_type": "stream",
     "text": [
      "        count       mean        std   min   25%   50%    75%   max\n",
      "sex                                                               \n",
      "Female  346.0  35.089595  12.300845  17.0  25.0  33.0  43.75  75.0\n",
      "Male    693.0  39.073593  12.883944  18.0  29.0  37.0  46.00  90.0\n",
      "\n",
      "sex\n",
      "Female    75\n",
      "Male      90\n",
      "Name: age, dtype: int64\n",
      "\n",
      "Max age = 90\n"
     ]
    }
   ],
   "source": [
    "print(df.groupby(['race', 'sex']).describe().loc['Asian-Pac-Islander', 'age']) #using describe\n",
    "print()\n",
    "print(df.groupby(['race', 'sex']).max().loc['Asian-Pac-Islander', 'age']) #using max and loc\n",
    "print()\n",
    "p = df.groupby(['race', 'sex']).max().loc['Asian-Pac-Islander', 'age'] # using  max loc for dataframe and loc for series\n",
    "print('Max age = ' + str(p.loc['Male']))"
   ]
  },
  {
   "cell_type": "markdown",
   "source": [
    "**8. Среди кого больше доля зарабатывающих много (>50K): среди женатых или холостых мужчин (признак *marital-status*)? Женатыми считаем тех, у кого *marital-status* начинается с *Married* (Married-civ-spouse, Married-spouse-absent или Married-AF-spouse), остальных считаем холостыми.**"
   ],
   "metadata": {
    "collapsed": false
   }
  },
  {
   "cell_type": "code",
   "execution_count": 9,
   "metadata": {},
   "outputs": [
    {
     "name": "stdout",
     "output_type": "stream",
     "text": [
      "Married men are more successful than unmarried\n"
     ]
    },
    {
     "name": "stderr",
     "output_type": "stream",
     "text": [
      "C:\\WINDOWS\\TEMP/ipykernel_2756/3988061805.py:2: UserWarning: Boolean Series key will be reindexed to match DataFrame index.\n",
      "  b = len(a[df['marital-status'].isin(['Married-civ-spouse', 'Married-spouse-absent', 'Married-AF-spouse'])]) #Salary >50k & married*\n",
      "C:\\WINDOWS\\TEMP/ipykernel_2756/3988061805.py:3: UserWarning: Boolean Series key will be reindexed to match DataFrame index.\n",
      "  c = len(a[~df['marital-status'].isin(['Married-civ-spouse', 'Married-spouse-absent', 'Married-AF-spouse'])]) #Salary\n"
     ]
    }
   ],
   "source": [
    "a = df[df.salary == '>50K'] #Salary >50k\n",
    "b = len(a[df['marital-status'].isin(['Married-civ-spouse', 'Married-spouse-absent', 'Married-AF-spouse'])]) #Salary >50k & married*\n",
    "c = len(a[~df['marital-status'].isin(['Married-civ-spouse', 'Married-spouse-absent', 'Married-AF-spouse'])]) #Salary\n",
    "if b/len(a) > c/len(a):\n",
    "    print('Married men are more successful than unmarried')\n",
    "else:\n",
    "    print('Unmarried men are more successful than married')"
   ]
  },
  {
   "cell_type": "markdown",
   "source": [
    "**9. Какое максимальное число часов человек работает в неделю (признак *hours-per-week*)? Сколько людей работают такое количество часов и каков среди них процент зарабатывающих много?**"
   ],
   "metadata": {
    "collapsed": false
   }
  },
  {
   "cell_type": "code",
   "execution_count": 14,
   "metadata": {},
   "outputs": [
    {
     "name": "stdout",
     "output_type": "stream",
     "text": [
      "Max hours: 85\n",
      "Amount of people who are working 85 hours in a week : 25\n",
      "29 %\n"
     ]
    },
    {
     "name": "stderr",
     "output_type": "stream",
     "text": [
      "C:\\WINDOWS\\TEMP/ipykernel_2756/613624461.py:3: UserWarning: Boolean Series key will be reindexed to match DataFrame index.\n",
      "  billionaire = df[df['hours-per-week'] == count][df.salary == '>50K']['age'].count()\n"
     ]
    }
   ],
   "source": [
    "count = df['hours-per-week'].max()\n",
    "maximum = df[df['hours-per-week'] == count]['age'].count()\n",
    "billionaire = df[df['hours-per-week'] == count][df.salary == '>50K']['age'].count()\n",
    "print('Max hours: ' + str(maximum))\n",
    "print('Amount of people who are working ' + str(maximum) + ' hours in a week : ' + str(billionaire))\n",
    "print(str(round(billionaire/maximum*100)) + ' %')"
   ]
  },
  {
   "cell_type": "markdown",
   "metadata": {},
   "source": [
    "**10. Посчитайте среднее время работы (*hours-per-week*) зарабатывающих мало и много (*salary*) для каждой страны (*native-country*).**"
   ]
  },
  {
   "cell_type": "code",
   "execution_count": 21,
   "metadata": {
    "scrolled": true
   },
   "outputs": [
    {
     "data": {
      "text/plain": "                    hours-per-week_x  hours-per-week_y\nnative-country                                        \n?                          40.164760         45.547945\nCambodia                   41.416667         40.000000\nCanada                     37.914634         45.641026\nChina                      37.381818         38.900000\nColumbia                   38.684211         50.000000\nCuba                       37.985714         42.440000\nDominican-Republic         42.338235         47.000000\nEcuador                    38.041667         48.750000\nEl-Salvador                36.030928         45.000000\nEngland                    40.483333         44.533333\nFrance                     41.058824         50.750000\nGermany                    39.139785         44.977273\nGreece                     41.809524         50.625000\nGuatemala                  39.360656         36.666667\nHaiti                      36.325000         42.750000\nHonduras                   34.333333         60.000000\nHong                       39.142857         45.000000\nHungary                    31.300000         50.000000\nIndia                      38.233333         46.475000\nIran                       41.440000         47.500000\nIreland                    40.947368         48.000000\nItaly                      39.625000         45.400000\nJamaica                    38.239437         41.100000\nJapan                      41.000000         47.958333\nLaos                       40.375000         40.000000\nMexico                     40.003279         46.575758\nNicaragua                  36.093750         37.500000\nPeru                       35.068966         40.000000\nPhilippines                38.065693         43.032787\nPoland                     38.166667         39.000000\nPortugal                   41.939394         41.500000\nPuerto-Rico                38.470588         39.416667\nScotland                   39.444444         46.666667\nSouth                      40.156250         51.437500\nTaiwan                     33.774194         46.800000\nThailand                   42.866667         58.333333\nTrinadad&Tobago            37.058824         40.000000\nUnited-States              38.799127         45.505369\nVietnam                    37.193548         39.200000\nYugoslavia                 41.600000         49.500000",
      "text/html": "<div>\n<style scoped>\n    .dataframe tbody tr th:only-of-type {\n        vertical-align: middle;\n    }\n\n    .dataframe tbody tr th {\n        vertical-align: top;\n    }\n\n    .dataframe thead th {\n        text-align: right;\n    }\n</style>\n<table border=\"1\" class=\"dataframe\">\n  <thead>\n    <tr style=\"text-align: right;\">\n      <th></th>\n      <th>hours-per-week_x</th>\n      <th>hours-per-week_y</th>\n    </tr>\n    <tr>\n      <th>native-country</th>\n      <th></th>\n      <th></th>\n    </tr>\n  </thead>\n  <tbody>\n    <tr>\n      <th>?</th>\n      <td>40.164760</td>\n      <td>45.547945</td>\n    </tr>\n    <tr>\n      <th>Cambodia</th>\n      <td>41.416667</td>\n      <td>40.000000</td>\n    </tr>\n    <tr>\n      <th>Canada</th>\n      <td>37.914634</td>\n      <td>45.641026</td>\n    </tr>\n    <tr>\n      <th>China</th>\n      <td>37.381818</td>\n      <td>38.900000</td>\n    </tr>\n    <tr>\n      <th>Columbia</th>\n      <td>38.684211</td>\n      <td>50.000000</td>\n    </tr>\n    <tr>\n      <th>Cuba</th>\n      <td>37.985714</td>\n      <td>42.440000</td>\n    </tr>\n    <tr>\n      <th>Dominican-Republic</th>\n      <td>42.338235</td>\n      <td>47.000000</td>\n    </tr>\n    <tr>\n      <th>Ecuador</th>\n      <td>38.041667</td>\n      <td>48.750000</td>\n    </tr>\n    <tr>\n      <th>El-Salvador</th>\n      <td>36.030928</td>\n      <td>45.000000</td>\n    </tr>\n    <tr>\n      <th>England</th>\n      <td>40.483333</td>\n      <td>44.533333</td>\n    </tr>\n    <tr>\n      <th>France</th>\n      <td>41.058824</td>\n      <td>50.750000</td>\n    </tr>\n    <tr>\n      <th>Germany</th>\n      <td>39.139785</td>\n      <td>44.977273</td>\n    </tr>\n    <tr>\n      <th>Greece</th>\n      <td>41.809524</td>\n      <td>50.625000</td>\n    </tr>\n    <tr>\n      <th>Guatemala</th>\n      <td>39.360656</td>\n      <td>36.666667</td>\n    </tr>\n    <tr>\n      <th>Haiti</th>\n      <td>36.325000</td>\n      <td>42.750000</td>\n    </tr>\n    <tr>\n      <th>Honduras</th>\n      <td>34.333333</td>\n      <td>60.000000</td>\n    </tr>\n    <tr>\n      <th>Hong</th>\n      <td>39.142857</td>\n      <td>45.000000</td>\n    </tr>\n    <tr>\n      <th>Hungary</th>\n      <td>31.300000</td>\n      <td>50.000000</td>\n    </tr>\n    <tr>\n      <th>India</th>\n      <td>38.233333</td>\n      <td>46.475000</td>\n    </tr>\n    <tr>\n      <th>Iran</th>\n      <td>41.440000</td>\n      <td>47.500000</td>\n    </tr>\n    <tr>\n      <th>Ireland</th>\n      <td>40.947368</td>\n      <td>48.000000</td>\n    </tr>\n    <tr>\n      <th>Italy</th>\n      <td>39.625000</td>\n      <td>45.400000</td>\n    </tr>\n    <tr>\n      <th>Jamaica</th>\n      <td>38.239437</td>\n      <td>41.100000</td>\n    </tr>\n    <tr>\n      <th>Japan</th>\n      <td>41.000000</td>\n      <td>47.958333</td>\n    </tr>\n    <tr>\n      <th>Laos</th>\n      <td>40.375000</td>\n      <td>40.000000</td>\n    </tr>\n    <tr>\n      <th>Mexico</th>\n      <td>40.003279</td>\n      <td>46.575758</td>\n    </tr>\n    <tr>\n      <th>Nicaragua</th>\n      <td>36.093750</td>\n      <td>37.500000</td>\n    </tr>\n    <tr>\n      <th>Peru</th>\n      <td>35.068966</td>\n      <td>40.000000</td>\n    </tr>\n    <tr>\n      <th>Philippines</th>\n      <td>38.065693</td>\n      <td>43.032787</td>\n    </tr>\n    <tr>\n      <th>Poland</th>\n      <td>38.166667</td>\n      <td>39.000000</td>\n    </tr>\n    <tr>\n      <th>Portugal</th>\n      <td>41.939394</td>\n      <td>41.500000</td>\n    </tr>\n    <tr>\n      <th>Puerto-Rico</th>\n      <td>38.470588</td>\n      <td>39.416667</td>\n    </tr>\n    <tr>\n      <th>Scotland</th>\n      <td>39.444444</td>\n      <td>46.666667</td>\n    </tr>\n    <tr>\n      <th>South</th>\n      <td>40.156250</td>\n      <td>51.437500</td>\n    </tr>\n    <tr>\n      <th>Taiwan</th>\n      <td>33.774194</td>\n      <td>46.800000</td>\n    </tr>\n    <tr>\n      <th>Thailand</th>\n      <td>42.866667</td>\n      <td>58.333333</td>\n    </tr>\n    <tr>\n      <th>Trinadad&amp;Tobago</th>\n      <td>37.058824</td>\n      <td>40.000000</td>\n    </tr>\n    <tr>\n      <th>United-States</th>\n      <td>38.799127</td>\n      <td>45.505369</td>\n    </tr>\n    <tr>\n      <th>Vietnam</th>\n      <td>37.193548</td>\n      <td>39.200000</td>\n    </tr>\n    <tr>\n      <th>Yugoslavia</th>\n      <td>41.600000</td>\n      <td>49.500000</td>\n    </tr>\n  </tbody>\n</table>\n</div>"
     },
     "execution_count": 21,
     "metadata": {},
     "output_type": "execute_result"
    }
   ],
   "source": [
    "a = df[df['salary'] == '<=50K'].groupby(['native-country'])['hours-per-week'].mean()\n",
    "b = df[df['salary'] == '>50K'].groupby(['native-country'])['hours-per-week'].mean()\n",
    "pd.merge(a,b, right_index=True, left_index=True)"
   ]
  },
  {
   "cell_type": "markdown",
   "metadata": {},
   "source": [
    "**11.Сгруппируйте людей по возрастным группам *young*, *adult*, *retiree*, где:**\n",
    "* *young* соответствует 16-35 лет\n",
    "* *adult* - 35-70 лет\n",
    "* *retiree* - 70-100 лет\n",
    "\n",
    "**Проставьте название соответсвтуещей группы для каждого человека в новой колонке AgeGroup**"
   ]
  },
  {
   "cell_type": "code",
   "execution_count": 22,
   "metadata": {
    "scrolled": true
   },
   "outputs": [
    {
     "data": {
      "text/plain": "0        adult\n1        adult\n2        adult\n3        adult\n4        young\n         ...  \n32556    young\n32557    adult\n32558    adult\n32559    young\n32560    adult\nName: AgeGroup, Length: 32561, dtype: object"
     },
     "execution_count": 22,
     "metadata": {},
     "output_type": "execute_result"
    }
   ],
   "source": [
    "def rule(age):\n",
    "    if age > 16 and age < 35:\n",
    "        return 'young'\n",
    "    elif age > 35 and age < 70:\n",
    "        return 'adult'\n",
    "    elif age > 70 and age < 100:\n",
    "        return 'retireee'\n",
    "\n",
    "df['AgeGroup'] = df.apply(lambda x : rule(x['age']),axis = 1)\n",
    "df['AgeGroup']"
   ]
  },
  {
   "cell_type": "markdown",
   "metadata": {},
   "source": [
    "**12-13. Определите количество зарабатывающих >50K в каждой из возрастных групп (колонка AgeGroup), а также выведите название возрастной группы, в которой чаще зарабатывают больше 50К (>50K)**"
   ]
  },
  {
   "cell_type": "code",
   "execution_count": 38,
   "metadata": {},
   "outputs": [
    {
     "data": {
      "text/plain": "AgeGroup\nadult       6023\nretireee      94\nyoung       1488\nName: age, dtype: int64"
     },
     "execution_count": 38,
     "metadata": {},
     "output_type": "execute_result"
    }
   ],
   "source": [
    "df[df['salary'] == '>50K'].groupby(['AgeGroup'])['age'].count()"
   ]
  },
  {
   "cell_type": "markdown",
   "metadata": {},
   "source": [
    "**14. Сгруппируйте людей по типу занятости (колонка occupation) и определите количество людей в каждой группе. После чего напишите функциюю фильтрации filter_func, которая будет возвращать только те группы, в которых средний возраст (колонка age) не больше 40 и в которых все работники отрабатывают более 5 часов в неделю (колонка hours-per-week)**"
   ]
  },
  {
   "cell_type": "code",
   "execution_count": 58,
   "metadata": {},
   "outputs": [
    {
     "data": {
      "text/plain": "                         age         fnlwgt  education-num  capital-gain  \\\noccupation                                                                 \nAdm-clerical       36.964456  192043.396286      10.113528    495.954907   \nArmed-Forces       30.222222  215425.888889      10.111111      0.000000   \nCraft-repair       39.031471  192132.599658       9.110759    649.512808   \nHandlers-cleaners  32.165693  204391.006569       8.510219    257.572993   \nMachine-op-inspct  37.715285  195040.877622       8.487512    328.689311   \nOther-service      34.949621  188608.452200       8.779666    191.301669   \nProtective-serv    38.953775  202039.953775      10.184900    708.098613   \nSales              37.353973  190885.892055      10.299726   1319.829315   \nTech-support       37.022629  192098.301724      10.992457    673.552802   \n\n                   capital-loss  hours-per-week  \noccupation                                       \nAdm-clerical          60.794430       37.558355  \nArmed-Forces         209.666667       40.666667  \nCraft-repair          88.465235       42.304221  \nHandlers-cleaners     45.635766       37.947445  \nMachine-op-inspct     61.706294       40.755744  \nOther-service         38.250683       34.701669  \nProtective-serv       78.334361       42.870570  \nSales                 98.300548       40.781096  \nTech-support          98.665948       39.432112  ",
      "text/html": "<div>\n<style scoped>\n    .dataframe tbody tr th:only-of-type {\n        vertical-align: middle;\n    }\n\n    .dataframe tbody tr th {\n        vertical-align: top;\n    }\n\n    .dataframe thead th {\n        text-align: right;\n    }\n</style>\n<table border=\"1\" class=\"dataframe\">\n  <thead>\n    <tr style=\"text-align: right;\">\n      <th></th>\n      <th>age</th>\n      <th>fnlwgt</th>\n      <th>education-num</th>\n      <th>capital-gain</th>\n      <th>capital-loss</th>\n      <th>hours-per-week</th>\n    </tr>\n    <tr>\n      <th>occupation</th>\n      <th></th>\n      <th></th>\n      <th></th>\n      <th></th>\n      <th></th>\n      <th></th>\n    </tr>\n  </thead>\n  <tbody>\n    <tr>\n      <th>Adm-clerical</th>\n      <td>36.964456</td>\n      <td>192043.396286</td>\n      <td>10.113528</td>\n      <td>495.954907</td>\n      <td>60.794430</td>\n      <td>37.558355</td>\n    </tr>\n    <tr>\n      <th>Armed-Forces</th>\n      <td>30.222222</td>\n      <td>215425.888889</td>\n      <td>10.111111</td>\n      <td>0.000000</td>\n      <td>209.666667</td>\n      <td>40.666667</td>\n    </tr>\n    <tr>\n      <th>Craft-repair</th>\n      <td>39.031471</td>\n      <td>192132.599658</td>\n      <td>9.110759</td>\n      <td>649.512808</td>\n      <td>88.465235</td>\n      <td>42.304221</td>\n    </tr>\n    <tr>\n      <th>Handlers-cleaners</th>\n      <td>32.165693</td>\n      <td>204391.006569</td>\n      <td>8.510219</td>\n      <td>257.572993</td>\n      <td>45.635766</td>\n      <td>37.947445</td>\n    </tr>\n    <tr>\n      <th>Machine-op-inspct</th>\n      <td>37.715285</td>\n      <td>195040.877622</td>\n      <td>8.487512</td>\n      <td>328.689311</td>\n      <td>61.706294</td>\n      <td>40.755744</td>\n    </tr>\n    <tr>\n      <th>Other-service</th>\n      <td>34.949621</td>\n      <td>188608.452200</td>\n      <td>8.779666</td>\n      <td>191.301669</td>\n      <td>38.250683</td>\n      <td>34.701669</td>\n    </tr>\n    <tr>\n      <th>Protective-serv</th>\n      <td>38.953775</td>\n      <td>202039.953775</td>\n      <td>10.184900</td>\n      <td>708.098613</td>\n      <td>78.334361</td>\n      <td>42.870570</td>\n    </tr>\n    <tr>\n      <th>Sales</th>\n      <td>37.353973</td>\n      <td>190885.892055</td>\n      <td>10.299726</td>\n      <td>1319.829315</td>\n      <td>98.300548</td>\n      <td>40.781096</td>\n    </tr>\n    <tr>\n      <th>Tech-support</th>\n      <td>37.022629</td>\n      <td>192098.301724</td>\n      <td>10.992457</td>\n      <td>673.552802</td>\n      <td>98.665948</td>\n      <td>39.432112</td>\n    </tr>\n  </tbody>\n</table>\n</div>"
     },
     "execution_count": 58,
     "metadata": {},
     "output_type": "execute_result"
    }
   ],
   "source": [
    "groupCount = df.groupby('occupation')['age'].count()\n",
    "#print(str(groupCount))\n",
    "def filter_func():\n",
    "    a = df.groupby('occupation').mean()\n",
    "    b = a[a['age'] < 40 ]\n",
    "    c = b[b['hours-per-week'] > 5]\n",
    "    return c\n",
    "\n",
    "filter_func()"
   ]
  },
  {
   "cell_type": "code",
   "execution_count": 55,
   "outputs": [],
   "source": [],
   "metadata": {
    "collapsed": false
   }
  },
  {
   "cell_type": "code",
   "execution_count": null,
   "outputs": [],
   "source": [],
   "metadata": {
    "collapsed": false,
    "pycharm": {
     "is_executing": true
    }
   }
  },
  {
   "cell_type": "code",
   "execution_count": null,
   "outputs": [],
   "source": [],
   "metadata": {
    "collapsed": false
   }
  }
 ],
 "metadata": {
  "anaconda-cloud": {},
  "kernelspec": {
   "display_name": "Python 3 (ipykernel)",
   "language": "python",
   "name": "python3"
  },
  "language_info": {
   "codemirror_mode": {
    "name": "ipython",
    "version": 3
   },
   "file_extension": ".py",
   "mimetype": "text/x-python",
   "name": "python",
   "nbconvert_exporter": "python",
   "pygments_lexer": "ipython3",
   "version": "3.8.10"
  }
 },
 "nbformat": 4,
 "nbformat_minor": 1
}
